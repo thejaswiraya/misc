{
 "cells": [
  {
   "cell_type": "markdown",
   "id": "15e60bdc-ae05-4124-8354-ec54eba94bb1",
   "metadata": {},
   "source": [
    "## Install packages"
   ]
  },
  {
   "cell_type": "markdown",
   "id": "a9b5fa65-d6ac-4c99-a419-17267df5d039",
   "metadata": {},
   "source": [
    "!pip3 install torch torchvision\n",
    "!pip3 install sentence-transformers\n",
    "!pip3 install lxml\n",
    "!pip3 install bs4"
   ]
  },
  {
   "cell_type": "markdown",
   "id": "d8e7096a-26a7-4944-9e8d-4ae3922a96dc",
   "metadata": {},
   "source": [
    "## Imports"
   ]
  },
  {
   "cell_type": "code",
   "execution_count": 66,
   "id": "6d2fe365-f728-49ac-bf31-cefd49143fb1",
   "metadata": {},
   "outputs": [],
   "source": [
    "import os\n",
    "\n",
    "import requests\n",
    "from requests.adapters import HTTPAdapter\n",
    "from requests.packages.urllib3.util.retry import Retry\n",
    "\n",
    "from bs4 import BeautifulSoup\n",
    "import pickle\n",
    "\n",
    "from sentence_transformers import SentenceTransformer, util\n",
    "import torch"
   ]
  },
  {
   "cell_type": "markdown",
   "id": "980406e8-df9b-4dd5-8af5-9d9025f7810f",
   "metadata": {},
   "source": [
    "## Basic Configs"
   ]
  },
  {
   "cell_type": "code",
   "execution_count": 15,
   "id": "458389d1-7512-40d9-85f6-4e21040a79ef",
   "metadata": {},
   "outputs": [],
   "source": [
    "OPENSTAX_API = 'https://openstax.org/apps/archive/20220118.185250/contents/'\n",
    "BIOLOGY_BOOK_ID = '8d50a0af-948b-4204-a71d-4826cba765b8@879b754'\n",
    "DOWNLOAD_FOLDER = 'data/openstax_biology'"
   ]
  },
  {
   "cell_type": "markdown",
   "id": "da1929a8-7df9-4728-bb4c-6e325a3301b4",
   "metadata": {},
   "source": [
    "## Prepare Corpus\n",
    "1. Download Openstax content (Creative Commons License)\n",
    "    - For the demo I am indexing Biology 2e Textbook - https://openstax.org/details/books/biology-2e from Openstax\n",
    "2. Pre-processing functions and cleanups\n",
    "3. Prep metadata"
   ]
  },
  {
   "cell_type": "code",
   "execution_count": 3,
   "id": "e0f9ee83-b3a4-414a-92fe-74cbbf9c5d81",
   "metadata": {},
   "outputs": [
    {
     "name": "stderr",
     "output_type": "stream",
     "text": [
      "/tmp/ipykernel_47081/140476515.py:4: DeprecationWarning: Using 'method_whitelist' with Retry is deprecated and will be removed in v2.0. Use 'allowed_methods' instead\n",
      "  retry_strategy = Retry(\n"
     ]
    }
   ],
   "source": [
    "def get_retry_strategy():\n",
    "    \"\"\"Returns the retry strategy.\n",
    "    \"\"\"\n",
    "    retry_strategy = Retry(\n",
    "        total=3,\n",
    "        status_forcelist=[429, 500, 502, 503, 504],\n",
    "        method_whitelist=[\"POST\"],\n",
    "        backoff_factor=1 #Exponential retry\n",
    "    )\n",
    "    return retry_strategy\n",
    "\n",
    "def get_service():\n",
    "    \"\"\"Returns the http service object that can be used for calling the Openstax APIs.\n",
    "    \"\"\"\n",
    "    retry_strategy = get_retry_strategy()\n",
    "    adapter = HTTPAdapter(max_retries=retry_strategy)\n",
    "    service = requests.Session()\n",
    "    service.mount(\"https://\", adapter)\n",
    "    service.mount(\"http://\", adapter)\n",
    "\n",
    "    return service\n",
    "\n",
    "def get_headers():\n",
    "    \"\"\"Get the headers.\n",
    "    \"\"\"\n",
    "    headers = {\"Content-Type\": \"application/x-www-form-urlencoded\"}\n",
    "    return \n",
    "\n",
    "service = get_service()\n",
    "response = service.get(OPENSTAX_API + BIOLOGY_BOOK_ID + '.json', headers = get_headers())\n",
    "result = response.json()"
   ]
  },
  {
   "cell_type": "code",
   "execution_count": 131,
   "id": "2018c52d-2903-4599-bf5e-c2ffef970327",
   "metadata": {},
   "outputs": [],
   "source": [
    "# Skip sections which do not contain the meat of the content\n",
    "SKIP_SECTIONS = ['introduction', 'key-terms', 'chapter-summary', 'visual-connection-questions', 'review-questions', 'critical-thinking-questions']\n",
    "\n",
    "content_sections = []\n",
    "for each_chapter in result['tree']['contents']:\n",
    "    # Skip the first chapter - Preface\n",
    "    if each_chapter['slug'] == 'preface':\n",
    "        continue\n",
    "    #print(each_chapter['slug'])\n",
    "    if 'contents' in each_chapter:\n",
    "        for each_section in each_chapter['contents']:\n",
    "            if 'slug' in each_section:\n",
    "                #print('\\t' + each_section['slug'])\n",
    "                for each_subsection in each_section['contents']:\n",
    "                    if any(sections_to_skip in each_subsection['slug'] for sections_to_skip in SKIP_SECTIONS):\n",
    "                        continue\n",
    "                    #print('\\t\\t' + each_subsection['slug'])\n",
    "                    content_sections.append(BIOLOGY_BOOK_ID + ':' + each_subsection['id'][:-1])"
   ]
  },
  {
   "cell_type": "code",
   "execution_count": 43,
   "id": "88e23e7f-4126-4b5f-aa85-1807ff581f85",
   "metadata": {},
   "outputs": [],
   "source": [
    "slug2title = {}\n",
    "\n",
    "def download_content(subsection_id):\n",
    "    service = get_service()\n",
    "    response = service.get(OPENSTAX_API + subsection_id + '.json', headers = get_headers())\n",
    "    result = response.json()\n",
    "    with open(DOWNLOAD_FOLDER + os.path.sep + result['slug'] + '.html', 'w') as fd:\n",
    "        fd.write(result['content'])\n",
    "    slug2title[result['slug']] = result['title']\n",
    "    return result['slug'], result['title'], result['content']\n",
    "\n",
    "def xhtml_to_text(html):\n",
    "    tree = BeautifulSoup(html, 'lxml')\n",
    "    body = tree.body\n",
    "    if body is None:\n",
    "        return None\n",
    "    for tag in body.select('script'):\n",
    "        tag.decompose()\n",
    "    for tag in body.select('style'):\n",
    "        tag.decompose()\n",
    "    text = body.get_text(separator='')\n",
    "    return text\n",
    "\n",
    "def get_html_content_snippets(html_content):\n",
    "    snippets = []\n",
    "    soup = BeautifulSoup(html_content)\n",
    "    block_elements = ['ul', 'ol', 'dl', 'table', 'div', 'pre', 'blockquote', 'p']\n",
    "    blocks = soup.findAll(block_elements)\n",
    "    for each_block in blocks:\n",
    "        if each_block.name == 'div' and each_block.get('data-type') and each_block['data-type'] == \"page\":\n",
    "            continue\n",
    "        snippets.append(each_block.text)\n",
    "    return snippets"
   ]
  },
  {
   "cell_type": "markdown",
   "id": "1b1204b0-7ddb-469e-923c-2df384c764ba",
   "metadata": {},
   "source": [
    "## Use SentenceBERT (miniLM) model to compute sentence embeddings"
   ]
  },
  {
   "cell_type": "code",
   "execution_count": 65,
   "id": "f2a80f5e-f764-47ee-8689-40575a81741e",
   "metadata": {},
   "outputs": [],
   "source": [
    "model = SentenceTransformer('all-MiniLM-L12-v2')\n",
    "\n",
    "model.max_seq_length = 512"
   ]
  },
  {
   "cell_type": "code",
   "execution_count": 71,
   "id": "dcb98322-747d-4319-a61a-fc43540f945b",
   "metadata": {},
   "outputs": [
    {
     "name": "stderr",
     "output_type": "stream",
     "text": [
      "/tmp/ipykernel_47081/140476515.py:4: DeprecationWarning: Using 'method_whitelist' with Retry is deprecated and will be removed in v2.0. Use 'allowed_methods' instead\n",
      "  retry_strategy = Retry(\n"
     ]
    }
   ],
   "source": [
    "content = []\n",
    "idx2slug = {}\n",
    "no_snippets = 0\n",
    "for each_section in content_sections:\n",
    "    slug, title, html_content = download_content(each_section)\n",
    "    snippets = get_html_content_snippets(html_content)\n",
    "    content.extend(snippets)\n",
    "    for i in range(len(snippets)): idx2slug[no_snippets + i] = slug\n",
    "    no_snippets += len(snippets)    \n",
    "content_embeddings = model.encode(content, convert_to_tensor=True)"
   ]
  },
  {
   "cell_type": "code",
   "execution_count": 61,
   "id": "cfbd50ad-62ea-435b-8ed3-fc6a6950a513",
   "metadata": {},
   "outputs": [],
   "source": [
    "with open('content_embeddings.pkl', \"wb\") as fd:\n",
    "    pickle.dump({'idx2slug': idx2slug, \\\n",
    "                 'content_embeddings': content_embeddings, \\\n",
    "                 'slug2title': slug2title}, \\\n",
    "                fd, \\\n",
    "                protocol=pickle.HIGHEST_PROTOCOL)"
   ]
  },
  {
   "cell_type": "markdown",
   "id": "630cec72-9937-4c43-a8eb-0566f65f6530",
   "metadata": {},
   "source": [
    "## Demo - Entity Matching using Wikipedia Content"
   ]
  },
  {
   "cell_type": "code",
   "execution_count": 117,
   "id": "61564d68-25cf-42d7-8779-19cf3d428efb",
   "metadata": {},
   "outputs": [],
   "source": [
    "def get_unique_entitites(sentence, top_k = 5):\n",
    "    sentence_embedding = model.encode(sentence, convert_to_tensor=True)\n",
    "    cos_scores = util.cos_sim(sentence_embedding, content_embeddings)[0]\n",
    "    top_results = torch.topk(cos_scores, k=100)\n",
    "\n",
    "    entities = []\n",
    "    top_scores = []\n",
    "    for score, idx in zip(top_results[0], top_results[1]):\n",
    "        if len(entities) >= top_k:\n",
    "            break\n",
    "        entity = slug2title[idx2slug[int(idx)]]\n",
    "        #print(entity)\n",
    "        if entity not in entities:\n",
    "            entities.append(entity)\n",
    "            top_scores.append(\"{:.4f}\".format(score))\n",
    "        #print(entities)\n",
    "    result = []\n",
    "    for entity, score in zip(entities, top_scores):\n",
    "        print('Entity: [%s], Score: [%s]' %(entity, score))\n",
    "        result.append((entity, score))\n",
    "    #return result"
   ]
  },
  {
   "cell_type": "code",
   "execution_count": null,
   "id": "cc521e3b-8dbc-4d1b-b49f-28ab323f3031",
   "metadata": {},
   "outputs": [],
   "source": []
  },
  {
   "cell_type": "markdown",
   "id": "9e99a9cd-f1dd-46a2-abec-559d66b95bfd",
   "metadata": {
    "tags": []
   },
   "source": [
    "#### Entity matching where the content is an entire paragraph\n",
    "- Notice that in the sentence there is no reference to the word Homeostasis, but we were able to match the sentence to the correct entity **Homeostasis**"
   ]
  },
  {
   "cell_type": "code",
   "execution_count": 122,
   "id": "fa51540f-8a0f-40ae-9ad0-6027bd9304df",
   "metadata": {},
   "outputs": [
    {
     "name": "stdout",
     "output_type": "stream",
     "text": [
      "Entity: [Homeostasis], Score: [0.6158]\n",
      "Entity: [Regulation of Hormone Production], Score: [0.5783]\n",
      "Entity: [Digestive System Regulation], Score: [0.5697]\n",
      "Entity: [Hormonal Control of Osmoregulatory Functions], Score: [0.5549]\n",
      "Entity: [Endocrine Glands], Score: [0.5425]\n"
     ]
    }
   ],
   "source": [
    "# https://en.wikipedia.org/wiki/Homeostasis\n",
    "sentence = '''\n",
    "Some centers, such as the renin–angiotensin system, control more than one variable. When the receptor senses a stimulus, it reacts by sending action potentials to a control center. The control center sets the maintenance range—the acceptable upper and lower limits—for the particular variable, such as temperature. The control center responds to the signal by determining an appropriate response and sending signals to an effector, which can be one or more muscles, an organ, or a gland. When the signal is received and acted on, negative feedback is provided to the receptor that stops the need for further signaling.[5]\n",
    "'''\n",
    "get_unique_entitites(sentence)"
   ]
  },
  {
   "cell_type": "code",
   "execution_count": null,
   "id": "0b868b74-7459-4bc2-83b2-18ea1197b49d",
   "metadata": {},
   "outputs": [],
   "source": []
  },
  {
   "cell_type": "markdown",
   "id": "957eaebd-0d60-4101-9ac7-ab6b3fab2f02",
   "metadata": {},
   "source": [
    "#### One more example of entity matching where the content is an entire paragraph\n",
    "- Notice that in the sentence there is no reference to the word Bryophytes or plants, but we were able to match the sentence to the correct entity"
   ]
  },
  {
   "cell_type": "code",
   "execution_count": 121,
   "id": "38fd654f-9e54-4e07-90e7-fe8e087f62fd",
   "metadata": {},
   "outputs": [
    {
     "name": "stdout",
     "output_type": "stream",
     "text": [
      "Entity: [Bryophytes], Score: [0.7237]\n",
      "Entity: [Early Plant Life], Score: [0.6977]\n",
      "Entity: [Evolution of Seed Plants], Score: [0.6817]\n",
      "Entity: [The Plant Body], Score: [0.6674]\n",
      "Entity: [Seedless Vascular Plants], Score: [0.6604]\n"
     ]
    }
   ],
   "source": [
    "# https://en.wikipedia.org/wiki/Bryophyte\n",
    "sentence = '''\n",
    "The sporophyte develops differently in the three groups. Both mosses and hornworts have a meristem zone where cell division occur. In hornworts, the meristem starts at the base where the foot ends, and the division of cells is pushing the sporophyte body upwards. In mosses, the meristem is located between the capsule and the top of the stalk (seta), and produce cells downward, elongating the stalk and elevates the capsule. In liverworts the meristem is absent and the elongation of the sporophyte is caused almost exclusively by cell expansion.[14]\n",
    "'''\n",
    "get_unique_entitites(sentence)"
   ]
  },
  {
   "cell_type": "code",
   "execution_count": null,
   "id": "911ff6d3-747d-4d8c-b664-416c6fcf1592",
   "metadata": {},
   "outputs": [],
   "source": []
  },
  {
   "cell_type": "markdown",
   "id": "5676d3b3-fc1a-42fa-b896-f2a963cb540a",
   "metadata": {},
   "source": [
    "#### Entity matching where the content is just a few words (very little context)\n",
    " - The results are accurate for shorter sentences too"
   ]
  },
  {
   "cell_type": "code",
   "execution_count": 123,
   "id": "44df9ec9-f6e1-48be-85c1-5fda70828a23",
   "metadata": {},
   "outputs": [
    {
     "name": "stdout",
     "output_type": "stream",
     "text": [
      "Entity: [Viral Evolution, Morphology, and Classification], Score: [0.6856]\n",
      "Entity: [Virus Infections and Hosts], Score: [0.4559]\n",
      "Entity: [Prevention and Treatment of Viral Infections], Score: [0.4328]\n",
      "Entity: [Innate Immune Response], Score: [0.4266]\n",
      "Entity: [Signaling Molecules and Cellular Receptors], Score: [0.4196]\n"
     ]
    }
   ],
   "source": [
    "sentence = '''\n",
    "what are group II viruses\n",
    "'''\n",
    "get_unique_entitites(sentence)"
   ]
  },
  {
   "cell_type": "code",
   "execution_count": null,
   "id": "c26d61a0-2984-4314-bbfb-75e9262b0fa3",
   "metadata": {},
   "outputs": [],
   "source": []
  },
  {
   "cell_type": "markdown",
   "id": "275a9cc2-10fb-4cd6-8128-d1c5d074beca",
   "metadata": {},
   "source": [
    "#### One more example of entity matching where the content is just a few words (very little context)\n",
    " - The results are accurate for shorter sentences too"
   ]
  },
  {
   "cell_type": "code",
   "execution_count": 126,
   "id": "610ae2b4-d2ff-41c4-950b-925f7bead44e",
   "metadata": {},
   "outputs": [
    {
     "name": "stdout",
     "output_type": "stream",
     "text": [
      "Entity: [Fishes], Score: [0.7810]\n",
      "Entity: [Chordates], Score: [0.5713]\n",
      "Entity: [Amphibians], Score: [0.5438]\n",
      "Entity: [Mammals], Score: [0.4904]\n",
      "Entity: [Osmoregulation and Osmotic Balance], Score: [0.4704]\n"
     ]
    }
   ],
   "source": [
    "sentence = '''\n",
    "examples of jawed fishes\n",
    "'''\n",
    "get_unique_entitites(sentence)"
   ]
  },
  {
   "cell_type": "code",
   "execution_count": null,
   "id": "73e3cb2b-cbc5-492d-a71a-a353fd16849b",
   "metadata": {},
   "outputs": [],
   "source": []
  },
  {
   "cell_type": "markdown",
   "id": "869e39ba-26c9-4252-a86e-06097c791e8e",
   "metadata": {},
   "source": [
    "#### Entity matching where the similarity score is quite low (0.3885) because the paragraph is from Physics (and not from Biology)\n",
    "- This is the case where we will need to create a new node in our Knowledge Graph\n",
    "- The model is doing the right thing by predicting a low value of similarity. "
   ]
  },
  {
   "cell_type": "code",
   "execution_count": 129,
   "id": "f5d85bee-9176-4e7b-8f7b-a3560f7f7c8a",
   "metadata": {},
   "outputs": [
    {
     "name": "stdout",
     "output_type": "stream",
     "text": [
      "Entity: [The Laws of Thermodynamics], Score: [0.3885]\n",
      "Entity: [Animal Form and Function], Score: [0.3536]\n",
      "Entity: [Somatosensation], Score: [0.3259]\n",
      "Entity: [Muscle Contraction and Locomotion], Score: [0.3240]\n",
      "Entity: [Passive Transport], Score: [0.3184]\n"
     ]
    }
   ],
   "source": [
    "# https://en.wikipedia.org/wiki/Newton%27s_laws_of_motion\n",
    "\n",
    "sentence = '''\n",
    "Newton's first law describes objects that are in two different situations: objects that are stationary, and objects that are moving straight at a constant speed. Newton observed that objects in both situations will only change their speed if a net force is applied to them. An object which is undergoing a net force of zero is said to be at mechanical equilibrium, and Newton's first law suggests two different types of mechanical equilibrium: an object which has net forces of zero and which is not moving is at mechanical equilibrium, but an object that is moving in a straight line and with constant velocity is also at mechanical equilibrium.[4]: 140\n",
    "'''\n",
    "get_unique_entitites(sentence)\n"
   ]
  },
  {
   "cell_type": "code",
   "execution_count": null,
   "id": "a2c09231-5caa-4f46-9e1a-ef284f906c92",
   "metadata": {},
   "outputs": [],
   "source": []
  }
 ],
 "metadata": {
  "kernelspec": {
   "display_name": "conda_dl",
   "language": "python",
   "name": "conda_dl"
  },
  "language_info": {
   "codemirror_mode": {
    "name": "ipython",
    "version": 3
   },
   "file_extension": ".py",
   "mimetype": "text/x-python",
   "name": "python",
   "nbconvert_exporter": "python",
   "pygments_lexer": "ipython3",
   "version": "3.8.12"
  }
 },
 "nbformat": 4,
 "nbformat_minor": 5
}
